{
 "cells": [
  {
   "cell_type": "code",
   "execution_count": 2,
   "id": "5cf067da-a4f0-46b0-b752-de3629e36355",
   "metadata": {},
   "outputs": [],
   "source": [
    "# Step 1: Import libraries\n",
    "import pandas as pd\n",
    "import numpy as np\n",
    "from sklearn.model_selection import train_test_split\n",
    "from sklearn.neighbors import KNeighborsRegressor\n",
    "from sklearn.linear_model import LinearRegression\n",
    "from sklearn.metrics import mean_squared_error, r2_score\n",
    "from sklearn.preprocessing import OneHotEncoder\n",
    "import matplotlib.pyplot as plt\n",
    "import seaborn as sns"
   ]
  },
  {
   "cell_type": "code",
   "execution_count": 3,
   "id": "fe1bc2f9-f4e6-4f0f-90f5-f984cbe48cb4",
   "metadata": {},
   "outputs": [
    {
     "name": "stdout",
     "output_type": "stream",
     "text": [
      "   Sex  Length  Diameter  Height  Whole weight  Shucked weight  \\\n",
      "0    M   0.455     0.365   0.095        0.5140          0.2245   \n",
      "1    M   0.350     0.265   0.090        0.2255          0.0995   \n",
      "2    F   0.530     0.420   0.135        0.6770          0.2565   \n",
      "3    M   0.440     0.365   0.125        0.5160          0.2155   \n",
      "4    I   0.330     0.255   0.080        0.2050          0.0895   \n",
      "5    I   0.425     0.300   0.095        0.3515          0.1410   \n",
      "6    F   0.530     0.415   0.150        0.7775          0.2370   \n",
      "7    F   0.545     0.425   0.125        0.7680          0.2940   \n",
      "8    M   0.475     0.370   0.125        0.5095          0.2165   \n",
      "9    F   0.550     0.440   0.150        0.8945          0.3145   \n",
      "10   F   0.525     0.380   0.140        0.6065          0.1940   \n",
      "11   M   0.430     0.350   0.110        0.4060          0.1675   \n",
      "12   M   0.490     0.380   0.135        0.5415          0.2175   \n",
      "13   F   0.535     0.405   0.145        0.6845          0.2725   \n",
      "14   F   0.470     0.355   0.100        0.4755          0.1675   \n",
      "15   M   0.500     0.400   0.130        0.6645          0.2580   \n",
      "16   I   0.355     0.280   0.085        0.2905          0.0950   \n",
      "17   F   0.440     0.340   0.100        0.4510          0.1880   \n",
      "18   M   0.365     0.295   0.080        0.2555          0.0970   \n",
      "19   M   0.450     0.320   0.100        0.3810          0.1705   \n",
      "\n",
      "    Viscera weight  Shell weight  Rings  \n",
      "0           0.1010         0.150     15  \n",
      "1           0.0485         0.070      7  \n",
      "2           0.1415         0.210      9  \n",
      "3           0.1140         0.155     10  \n",
      "4           0.0395         0.055      7  \n",
      "5           0.0775         0.120      8  \n",
      "6           0.1415         0.330     20  \n",
      "7           0.1495         0.260     16  \n",
      "8           0.1125         0.165      9  \n",
      "9           0.1510         0.320     19  \n",
      "10          0.1475         0.210     14  \n",
      "11          0.0810         0.135     10  \n",
      "12          0.0950         0.190     11  \n",
      "13          0.1710         0.205     10  \n",
      "14          0.0805         0.185     10  \n",
      "15          0.1330         0.240     12  \n",
      "16          0.0395         0.115      7  \n",
      "17          0.0870         0.130     10  \n",
      "18          0.0430         0.100      7  \n",
      "19          0.0750         0.115      9  \n"
     ]
    }
   ],
   "source": [
    "## ✅ Step 1: Load the Dataset\n",
    "import pandas as pd\n",
    "\n",
    "# Column names as per dataset description\n",
    "columns = ['Sex', 'Length', 'Diameter', 'Height', 'Whole weight', \n",
    "           'Shucked weight', 'Viscera weight', 'Shell weight', 'Rings']\n",
    "\n",
    "# Load the dataset\n",
    "df = pd.read_csv('C:/Users/User/Downloads/abalone/abalone.data', header=None, names=columns)\n",
    "\n",
    "# Check the first few rows\n",
    "print(df.head(20))\n"
   ]
  },
  {
   "cell_type": "code",
   "execution_count": 4,
   "id": "5a5e9c24-3e55-4878-b19a-98d310da08fe",
   "metadata": {},
   "outputs": [
    {
     "name": "stdout",
     "output_type": "stream",
     "text": [
      "Sex                object\n",
      "Length            float64\n",
      "Diameter          float64\n",
      "Height            float64\n",
      "Whole weight      float64\n",
      "Shucked weight    float64\n",
      "Viscera weight    float64\n",
      "Shell weight      float64\n",
      "Rings               int64\n",
      "dtype: object\n",
      "            Length     Diameter       Height  Whole weight  Shucked weight  \\\n",
      "count  4177.000000  4177.000000  4177.000000   4177.000000     4177.000000   \n",
      "mean      0.523992     0.407881     0.139516      0.828742        0.359367   \n",
      "std       0.120093     0.099240     0.041827      0.490389        0.221963   \n",
      "min       0.075000     0.055000     0.000000      0.002000        0.001000   \n",
      "25%       0.450000     0.350000     0.115000      0.441500        0.186000   \n",
      "50%       0.545000     0.425000     0.140000      0.799500        0.336000   \n",
      "75%       0.615000     0.480000     0.165000      1.153000        0.502000   \n",
      "max       0.815000     0.650000     1.130000      2.825500        1.488000   \n",
      "\n",
      "       Viscera weight  Shell weight        Rings  \n",
      "count     4177.000000   4177.000000  4177.000000  \n",
      "mean         0.180594      0.238831     9.933684  \n",
      "std          0.109614      0.139203     3.224169  \n",
      "min          0.000500      0.001500     1.000000  \n",
      "25%          0.093500      0.130000     8.000000  \n",
      "50%          0.171000      0.234000     9.000000  \n",
      "75%          0.253000      0.329000    11.000000  \n",
      "max          0.760000      1.005000    29.000000  \n",
      "Sex               0\n",
      "Length            0\n",
      "Diameter          0\n",
      "Height            0\n",
      "Whole weight      0\n",
      "Shucked weight    0\n",
      "Viscera weight    0\n",
      "Shell weight      0\n",
      "Rings             0\n",
      "dtype: int64\n"
     ]
    }
   ],
   "source": [
    "## Step 2: Explore the Data\n",
    "# Data types\n",
    "print(df.dtypes)\n",
    "\n",
    "# Basic statistics\n",
    "print(df.describe())\n",
    "\n",
    "# Check for missing values\n",
    "print(df.isnull().sum())\n"
   ]
  },
  {
   "cell_type": "code",
   "execution_count": 5,
   "id": "7a0d4536-452e-40e6-a0f2-de8be798d7b8",
   "metadata": {},
   "outputs": [
    {
     "name": "stdout",
     "output_type": "stream",
     "text": [
      "   Length  Diameter  Height  Whole weight  Shucked weight  Viscera weight  \\\n",
      "0   0.455     0.365   0.095        0.5140          0.2245          0.1010   \n",
      "1   0.350     0.265   0.090        0.2255          0.0995          0.0485   \n",
      "2   0.530     0.420   0.135        0.6770          0.2565          0.1415   \n",
      "3   0.440     0.365   0.125        0.5160          0.2155          0.1140   \n",
      "4   0.330     0.255   0.080        0.2050          0.0895          0.0395   \n",
      "\n",
      "   Shell weight  Rings  Sex_F  Sex_I  Sex_M  \n",
      "0         0.150     15  False  False   True  \n",
      "1         0.070      7  False  False   True  \n",
      "2         0.210      9   True  False  False  \n",
      "3         0.155     10  False  False   True  \n",
      "4         0.055      7  False   True  False  \n"
     ]
    }
   ],
   "source": [
    "##Step 3: Preprocess the Data\n",
    "# One-hot encode the 'Sex' column\n",
    "df_encoded = pd.get_dummies(df, columns=['Sex'])\n",
    "\n",
    "# Confirm encoding\n",
    "print(df_encoded.head())"
   ]
  },
  {
   "cell_type": "code",
   "execution_count": 6,
   "id": "f6760236-9a52-4aef-9ffd-370fc9ff6055",
   "metadata": {},
   "outputs": [
    {
     "name": "stdout",
     "output_type": "stream",
     "text": [
      "   Length  Diameter  Height  Whole weight  Shucked weight  Viscera weight  \\\n",
      "0   0.455     0.365   0.095        0.5140          0.2245          0.1010   \n",
      "1   0.350     0.265   0.090        0.2255          0.0995          0.0485   \n",
      "2   0.530     0.420   0.135        0.6770          0.2565          0.1415   \n",
      "3   0.440     0.365   0.125        0.5160          0.2155          0.1140   \n",
      "4   0.330     0.255   0.080        0.2050          0.0895          0.0395   \n",
      "\n",
      "   Shell weight  Rings  Sex_F  Sex_I  Sex_M   Age  \n",
      "0         0.150     15  False  False   True  16.5  \n",
      "1         0.070      7  False  False   True   8.5  \n",
      "2         0.210      9   True  False  False  10.5  \n",
      "3         0.155     10  False  False   True  11.5  \n",
      "4         0.055      7  False   True  False   8.5  \n",
      "Length            float64\n",
      "Diameter          float64\n",
      "Height            float64\n",
      "Whole weight      float64\n",
      "Shucked weight    float64\n",
      "Viscera weight    float64\n",
      "Shell weight      float64\n",
      "Rings               int64\n",
      "Sex_F                bool\n",
      "Sex_I                bool\n",
      "Sex_M                bool\n",
      "Age               float64\n",
      "dtype: object\n"
     ]
    }
   ],
   "source": [
    "# Step 5: Prepare features and target\n",
    "\n",
    "# Convert Rings to Age\n",
    "df_encoded['Age'] = df['Rings'] + 1.5\n",
    "\n",
    "print(df_encoded.head())\n",
    "\n",
    "print(df_encoded.dtypes)\n"
   ]
  },
  {
   "cell_type": "code",
   "execution_count": 7,
   "id": "536f9f55-09fc-4215-b82c-20d93ea8df45",
   "metadata": {},
   "outputs": [
    {
     "data": {
      "image/png": "[encoded data removed]",
      "text/plain": [
       "<Figure size 1000x600 with 2 Axes>"
      ]
     },
     "metadata": {},
     "output_type": "display_data"
    },
    {
     "data": {
      "text/plain": [
       "<Figure size 640x480 with 0 Axes>"
      ]
     },
     "metadata": {},
     "output_type": "display_data"
    }
   ],
   "source": [
    "# Step : Explore and Correlation Check\n",
    "\n",
    "# Correlation Heatmap\n",
    "plt.figure(figsize=(10, 6))\n",
    "sns.heatmap(df_encoded.drop(columns='Rings').corr(), annot=True, cmap='coolwarm')\n",
    "plt.title('Correlation Matrix (with Age)')\n",
    "plt.show()\n",
    "plt.savefig('corr_heatmap1.png', transparent=True)"
   ]
  },
  {
   "cell_type": "code",
   "execution_count": 8,
   "id": "e28a90c9-4074-4eae-aa4d-c0add1c50ae8",
   "metadata": {},
   "outputs": [],
   "source": [
    "# Step 6: Prepare Features and Target\n",
    "X = df_encoded.drop(columns=['Rings', 'Age', 'Sex_F','Sex_M','Sex_I','Diameter'])  # Features\n",
    "y = df_encoded['Age']                          # Target\n"
   ]
  },
  {
   "cell_type": "code",
   "execution_count": 9,
   "id": "ac206e81-48e3-457f-b2db-fbcfeffb42c4",
   "metadata": {},
   "outputs": [],
   "source": [
    "# Step 7: Split Data\n",
    "X_train, X_test, y_train, y_test = train_test_split(X, y, test_size=0.2, random_state=1)\n"
   ]
  },
  {
   "cell_type": "code",
   "execution_count": 10,
   "id": "5355ed61-3336-4e98-8c9e-976c0d419457",
   "metadata": {},
   "outputs": [
    {
     "name": "stdout",
     "output_type": "stream",
     "text": [
      "KNN -> RMSE: 2.13, R²: 0.54\n"
     ]
    }
   ],
   "source": [
    "# Step 8: KNN Regression\n",
    "knn = KNeighborsRegressor(n_neighbors=13)\n",
    "knn.fit(X_train, y_train)\n",
    "y_pred_knn = knn.predict(X_test)\n",
    "\n",
    "rmse_knn = mean_squared_error(y_test, y_pred_knn, squared=False)\n",
    "r2_knn = r2_score(y_test, y_pred_knn)\n",
    "print(f\"KNN -> RMSE: {rmse_knn:.2f}, R²: {r2_knn:.2f}\")\n"
   ]
  },
  {
   "cell_type": "code",
   "execution_count": 11,
   "id": "c2a3fdd8-bf45-485c-98eb-036870a5133a",
   "metadata": {},
   "outputs": [
    {
     "name": "stdout",
     "output_type": "stream",
     "text": [
      "Linear Regression -> RMSE: 2.22, R²: 0.50\n"
     ]
    }
   ],
   "source": [
    "# Step 9: Linear Regression\n",
    "lr = LinearRegression()\n",
    "lr.fit(X_train, y_train)\n",
    "y_pred_lr = lr.predict(X_test)\n",
    "\n",
    "rmse_lr = mean_squared_error(y_test, y_pred_lr, squared=False)\n",
    "r2_lr = r2_score(y_test, y_pred_lr)\n",
    "print(f\"Linear Regression -> RMSE: {rmse_lr:.2f}, R²: {r2_lr:.2f}\")\n"
   ]
  },
  {
   "cell_type": "code",
   "execution_count": 12,
   "id": "4a72fdb4-eb7b-4f8a-98ae-e7bbf266a482",
   "metadata": {},
   "outputs": [
    {
     "name": "stdout",
     "output_type": "stream",
     "text": [
      "[('Shucked weight', 20.394336878284435), ('Height', 11.530263165111828), ('Shell weight', 9.818989136324493), ('Viscera weight', 9.219670051125114), ('Whole weight', 9.121940265941014), ('Length', 8.368476637117405)]\n"
     ]
    }
   ],
   "source": [
    "import numpy as np\n",
    "from sklearn.linear_model import LinearRegression\n",
    "\n",
    "# Assuming X_train and y_train are your data and target\n",
    "model = LinearRegression()\n",
    "model.fit(X_train, y_train)\n",
    "\n",
    "# Getting feature importance (absolute values of coefficients)\n",
    "importance = np.abs(model.coef_)\n",
    "\n",
    "# Optionally, if you want to sort the features by importance:\n",
    "feature_importance = sorted(zip(X_train.columns, importance), key=lambda x: x[1], reverse=True)\n",
    "print(feature_importance)\n"
   ]
  },
  {
   "cell_type": "code",
   "execution_count": 13,
   "id": "f0927ff1-7ff5-4114-b749-221c82aae3dd",
   "metadata": {},
   "outputs": [
    {
     "name": "stdout",
     "output_type": "stream",
     "text": [
      "Best k: 13\n",
      "Lowest MSE: 4.542227003765465\n"
     ]
    }
   ],
   "source": [
    "from sklearn.metrics import mean_squared_error\n",
    "import numpy as np\n",
    "\n",
    "best_k = 1\n",
    "best_score = float('inf')  # Lower MSE is better\n",
    "\n",
    "for k in range(1, 31):\n",
    "    model = KNeighborsRegressor(n_neighbors=k)\n",
    "    model.fit(X_train, y_train)\n",
    "    predictions = model.predict(X_test)\n",
    "    score = mean_squared_error(y_test, predictions)\n",
    "    \n",
    "    if score < best_score:\n",
    "        best_score = score\n",
    "        best_k = k\n",
    "\n",
    "print(f\"Best k: {best_k}\")\n",
    "print(f\"Lowest MSE: {best_score}\")\n"
   ]
  },
  {
   "cell_type": "code",
   "execution_count": null,
   "id": "44a69e41-1ecd-426c-8fe1-1b655e03e2f0",
   "metadata": {},
   "outputs": [],
   "source": []
  }
 ],
 "metadata": {
  "kernelspec": {
   "display_name": "Python 3 (ipykernel)",
   "language": "python",
   "name": "python3"
  },
  "language_info": {
   "codemirror_mode": {
    "name": "ipython",
    "version": 3
   },
   "file_extension": ".py",
   "mimetype": "text/x-python",
   "name": "python",
   "nbconvert_exporter": "python",
   "pygments_lexer": "ipython3",
   "version": "3.11.5"
  }
 },
 "nbformat": 4,
 "nbformat_minor": 5
}
